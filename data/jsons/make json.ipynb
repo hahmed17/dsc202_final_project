{
 "cells": [
  {
   "cell_type": "code",
   "execution_count": null,
   "id": "525b4b0a",
   "metadata": {
    "id": "525b4b0a",
    "outputId": "1ffd9164-5972-4274-bed5-5c865fba31ad"
   },
   "outputs": [
    {
     "name": "stdout",
     "output_type": "stream",
     "text": [
      "Requirement already satisfied: wikipedia in c:\\users\\sarah\\anaconda3\\lib\\site-packages (1.4.0)\n",
      "Requirement already satisfied: beautifulsoup4 in c:\\users\\sarah\\anaconda3\\lib\\site-packages (from wikipedia) (4.10.0)\n",
      "Requirement already satisfied: requests<3.0.0,>=2.0.0 in c:\\users\\sarah\\anaconda3\\lib\\site-packages (from wikipedia) (2.26.0)\n",
      "Requirement already satisfied: certifi>=2017.4.17 in c:\\users\\sarah\\anaconda3\\lib\\site-packages (from requests<3.0.0,>=2.0.0->wikipedia) (2021.10.8)\n",
      "Requirement already satisfied: urllib3<1.27,>=1.21.1 in c:\\users\\sarah\\anaconda3\\lib\\site-packages (from requests<3.0.0,>=2.0.0->wikipedia) (1.26.7)\n",
      "Requirement already satisfied: charset-normalizer~=2.0.0 in c:\\users\\sarah\\anaconda3\\lib\\site-packages (from requests<3.0.0,>=2.0.0->wikipedia) (2.0.4)\n",
      "Requirement already satisfied: idna<4,>=2.5 in c:\\users\\sarah\\anaconda3\\lib\\site-packages (from requests<3.0.0,>=2.0.0->wikipedia) (3.2)\n",
      "Requirement already satisfied: soupsieve>1.2 in c:\\users\\sarah\\anaconda3\\lib\\site-packages (from beautifulsoup4->wikipedia) (2.2.1)\n",
      "Note: you may need to restart the kernel to use updated packages.\n"
     ]
    },
    {
     "name": "stderr",
     "output_type": "stream",
     "text": [
      "WARNING: Ignoring invalid distribution -ip (c:\\users\\sarah\\anaconda3\\lib\\site-packages)\n",
      "WARNING: Ignoring invalid distribution -ip (c:\\users\\sarah\\anaconda3\\lib\\site-packages)\n",
      "WARNING: Ignoring invalid distribution -ip (c:\\users\\sarah\\anaconda3\\lib\\site-packages)\n",
      "WARNING: Ignoring invalid distribution -ip (c:\\users\\sarah\\anaconda3\\lib\\site-packages)\n",
      "WARNING: Ignoring invalid distribution -ip (c:\\users\\sarah\\anaconda3\\lib\\site-packages)\n",
      "WARNING: Ignoring invalid distribution -ip (c:\\users\\sarah\\anaconda3\\lib\\site-packages)\n"
     ]
    }
   ],
   "source": [
    "pip install wikipedia"
   ]
  },
  {
   "cell_type": "code",
   "execution_count": null,
   "id": "b4857ea4",
   "metadata": {
    "id": "b4857ea4",
    "outputId": "76be8265-fe2e-4a2e-b6db-2cef35c9af91",
    "scrolled": false
   },
   "outputs": [
    {
     "data": {
      "text/plain": [
       "'The city of Chicago is divided into 77 community areas for statistical and planning purposes. Census data and other statistics are tied to the areas, which serve as the basis for a variety of urban planning initiatives on both the local and regional levels. The areas\\' boundaries do not generally change, allowing comparisons of statistics across time. The areas are distinct from but related to the more numerous neighborhoods of Chicago; an area often corresponds to a neighborhood or encompasses several neighborhoods, but the areas do not always correspond to popular conceptions of the neighborhoods due to a number of factors including historical evolution and choices made by the creators of the areas. As of 2020, Near North Side is the most populous of the areas with over 105,000 residents, while Burnside is the least populous with just over 2,500. Other geographical divisions of Chicago exist, such as the \"sides\" created by the branches of the Chicago River, the wards of the Chicago City Council, and the parishes of the Roman Catholic Church.\\nThe Social Science Research Committee at the University of Chicago defined the community areas in the 1920s based on neighborhoods or groups of related neighborhoods within the city. In this effort it was led by sociologists Robert E. Park and Ernest Burgess, who believed that physical contingencies created areas that would inevitably form a common identity. Except for the addition of two areas (O\\'Hare from land annexed by the city in 1956 and Edgewater\\'s separation from Uptown in 1980) and expansions due to minor annexations, the areas\\' boundaries have never been revised to reflect change but instead have been kept stable. The areas have become a part of the culture of Chicago, contributing to its perception as a \"city of neighborhoods\" and breaking it down into smaller regions for easier analysis and local planning. Nevertheless, Park\\'s and Burgess\\'s ideas on the inevitability of physically related areas forming a common bond have been questioned, and the unchanging nature of the areas has at times been considered problematic with major subsequent changes in the urban landscape such as the construction of expressways.'"
      ]
     },
     "execution_count": 21,
     "metadata": {},
     "output_type": "execute_result"
    }
   ],
   "source": [
    "wp.summary(\"Community areas in Chicago\")"
   ]
  },
  {
   "cell_type": "code",
   "execution_count": null,
   "id": "7b92ac79",
   "metadata": {
    "id": "7b92ac79",
    "outputId": "febbc61d-7814-4822-cca2-e049c42c59be",
    "scrolled": true
   },
   "outputs": [
    {
     "name": "stdout",
     "output_type": "stream",
     "text": [
      "Collecting wikipedia_sections\n",
      "  Downloading wikipedia_sections-2.0.0.tar.gz (10 kB)\n",
      "  Preparing metadata (setup.py): started\n",
      "  Preparing metadata (setup.py): finished with status 'done'\n",
      "Requirement already satisfied: beautifulsoup4 in c:\\users\\sarah\\anaconda3\\lib\\site-packages (from wikipedia_sections) (4.10.0)\n",
      "Requirement already satisfied: requests<3.0.0,>=2.0.0 in c:\\users\\sarah\\anaconda3\\lib\\site-packages (from wikipedia_sections) (2.26.0)\n",
      "Requirement already satisfied: certifi>=2017.4.17 in c:\\users\\sarah\\anaconda3\\lib\\site-packages (from requests<3.0.0,>=2.0.0->wikipedia_sections) (2021.10.8)\n",
      "Requirement already satisfied: urllib3<1.27,>=1.21.1 in c:\\users\\sarah\\anaconda3\\lib\\site-packages (from requests<3.0.0,>=2.0.0->wikipedia_sections) (1.26.7)\n",
      "Requirement already satisfied: idna<4,>=2.5 in c:\\users\\sarah\\anaconda3\\lib\\site-packages (from requests<3.0.0,>=2.0.0->wikipedia_sections) (3.2)\n",
      "Requirement already satisfied: charset-normalizer~=2.0.0 in c:\\users\\sarah\\anaconda3\\lib\\site-packages (from requests<3.0.0,>=2.0.0->wikipedia_sections) (2.0.4)\n",
      "Requirement already satisfied: soupsieve>1.2 in c:\\users\\sarah\\anaconda3\\lib\\site-packages (from beautifulsoup4->wikipedia_sections) (2.2.1)\n",
      "Building wheels for collected packages: wikipedia_sections\n",
      "  Building wheel for wikipedia_sections (setup.py): started\n",
      "  Building wheel for wikipedia_sections (setup.py): finished with status 'done'\n",
      "  Created wheel for wikipedia_sections: filename=wikipedia_sections-2.0.0-py3-none-any.whl size=10697 sha256=a8075786b3e7284ee1e4c14f30133cc501042d1090e8ac235b7f7ccef81fe06c\n",
      "  Stored in directory: c:\\users\\sarah\\appdata\\local\\pip\\cache\\wheels\\32\\2b\\51\\6e4dd8cb976536e632fa3a3d7659183881d4ab500601ed80d6\n",
      "Successfully built wikipedia_sections\n",
      "Installing collected packages: wikipedia_sections\n",
      "Successfully installed wikipedia_sections-2.0.0\n",
      "Note: you may need to restart the kernel to use updated packages.\n"
     ]
    },
    {
     "name": "stderr",
     "output_type": "stream",
     "text": [
      "WARNING: Ignoring invalid distribution -ip (c:\\users\\sarah\\anaconda3\\lib\\site-packages)\n",
      "WARNING: Ignoring invalid distribution -ip (c:\\users\\sarah\\anaconda3\\lib\\site-packages)\n",
      "WARNING: Ignoring invalid distribution -ip (c:\\users\\sarah\\anaconda3\\lib\\site-packages)\n",
      "WARNING: Ignoring invalid distribution -ip (c:\\users\\sarah\\anaconda3\\lib\\site-packages)\n",
      "WARNING: Ignoring invalid distribution -ip (c:\\users\\sarah\\anaconda3\\lib\\site-packages)\n",
      "WARNING: Ignoring invalid distribution -ip (c:\\users\\sarah\\anaconda3\\lib\\site-packages)\n",
      "WARNING: Ignoring invalid distribution -ip (c:\\users\\sarah\\anaconda3\\lib\\site-packages)\n"
     ]
    }
   ],
   "source": [
    "pip install wikipedia_sections"
   ]
  },
  {
   "cell_type": "code",
   "execution_count": null,
   "id": "ff9d2b1e",
   "metadata": {
    "id": "ff9d2b1e",
    "scrolled": true
   },
   "outputs": [],
   "source": [
    "import wikipedia as wp\n",
    "#wp.WikipediaPage(title=\"Uptown, Chicago\").sections"
   ]
  },
  {
   "cell_type": "code",
   "execution_count": null,
   "id": "064b500a",
   "metadata": {
    "id": "064b500a",
    "outputId": "6f42ac82-4034-422a-a7fb-960be6ca30b4",
    "scrolled": true
   },
   "outputs": [
    {
     "data": {
      "text/plain": [
       "'The Rogers Park area was colonized at the convergence of two Native American trails predating modern metropolitan Chicago, that evolved into Rogers Avenue and Ridge Boulevard. The Pottawatomi and other regional tribes settled in Rogers Park from season to season. The name of Indian Boundary Park west of Rogers Park reflects this history as does Pottawattomie Park near Clark Street and Rogers Avenue.\\nIn 1809, the Karthauser Inn was established as stagecoach stop and tavern. Phillip Rogers of Ireland purchased 1,600 acres (650 ha) of land in the area from the 1830s to 1856. He operated a toll gate beside his home at what became Ridge and Lunt Avenues and often traded and worked with the local tribes.\\nDuring the period 1844 to 1850 arriving colonizers started farms along a ridge in the western portion of Rogers Park, avoiding the often flooded lowlands to the east.  In 1870 Rogers\\' son-in-law, Patrick I. Touhy, sold 100 acres (40 ha) to land speculators, including John Farwell, Luther Greenleaf, Stephen Lunt, Charles Morse, and George Estes; all of whom contributed names to streets in the area.  With an additional purchase of 125 acres in 1873 these speculators together with Touhy formed the Rogers Park Building and Land Company.  Also in 1873, the Chicago & Northwestern Railway completed a line through the area and constructed a station at Greenleaf Ave.  The population was 200 and a post office was opened in July 1873.On April 29, 1878, voters incorporated Rogers Park as a village of Illinois governed by six trustees. In 1885, the Chicago, Evanston & Lake Superior Railroad, a predecessor of the Chicago, Milwaukee & St. Paul Railroad, built a combination freight and commuter line through eastern Rogers Park on the present \"L\" right-of-way with a stop at Morse Avenue. By 1893, the population was 3500, the North Shore Electric Railroad expanded its service into the area, and the village of Rogers Park was annexed to Chicago.The Rogers Park Women\\'s Club opened the first library in 1894. In that year, the Great Fire of Rogers Park destroyed the business district.'"
      ]
     },
     "execution_count": 5,
     "metadata": {},
     "output_type": "execute_result"
    }
   ],
   "source": [
    "wp.WikipediaPage(title=\"Rogers_Park,_Chicago\").section(\"19th century\")"
   ]
  },
  {
   "cell_type": "code",
   "execution_count": null,
   "id": "9678b37f",
   "metadata": {
    "id": "9678b37f",
    "scrolled": true
   },
   "outputs": [],
   "source": [
    "sectionsw=wp.WikipediaPage(title=\"Rogers Park, Chicago\").sections\n",
    "\n",
    "info=[]\n",
    "for i in sectionsw:\n",
    "    tex=wp.WikipediaPage(title=\"Uptown, Chicago\").section(str(i))\n",
    "    info.append(tex)\n",
    "info2=np.array(info).reshape(1,37)\n",
    "sample=pd.DataFrame(info2,columns=sectionsw)\n",
    "sample.to_json('uptown.json',orient='records')"
   ]
  },
  {
   "cell_type": "code",
   "execution_count": null,
   "id": "2b21afb0",
   "metadata": {
    "id": "2b21afb0",
    "outputId": "6bd2c09f-f4a2-400b-afce-37dcaf72cbc8"
   },
   "outputs": [
    {
     "data": {
      "text/plain": [
       "'River North'"
      ]
     },
     "execution_count": 114,
     "metadata": {},
     "output_type": "execute_result"
    }
   ],
   "source": [
    "sectionsw=wp.WikipediaPage(title= str(z)+', Chicago').sections\n",
    "sectionsw[4]"
   ]
  },
  {
   "cell_type": "code",
   "execution_count": null,
   "id": "6243c98f",
   "metadata": {
    "id": "6243c98f",
    "outputId": "c4b1a8f6-0b46-4a6a-9b91-fbfb72fa757a",
    "scrolled": true
   },
   "outputs": [
    {
     "name": "stderr",
     "output_type": "stream",
     "text": [
      "C:\\Users\\sarah\\AppData\\Local\\Temp/ipykernel_17936/57866366.py:5: SettingWithCopyWarning: \n",
      "A value is trying to be set on a copy of a slice from a DataFrame\n",
      "\n",
      "See the caveats in the documentation: https://pandas.pydata.org/pandas-docs/stable/user_guide/indexing.html#returning-a-view-versus-a-copy\n",
      "  names[31]=\"Chicago Loop\"\n"
     ]
    },
    {
     "data": {
      "text/plain": [
       "'Chicago Loop'"
      ]
     },
     "execution_count": 94,
     "metadata": {},
     "output_type": "execute_result"
    }
   ],
   "source": [
    "html = wp.page('Community areas in Chicago').html().encode(\"UTF-8\")\n",
    "df = pd.read_html(html)[0]\n",
    "names=df.iloc[:, 1]\n",
    "names[0:76]\n",
    "names[31]=\"Chicago Loop\"\n",
    "names[31]\n"
   ]
  },
  {
   "cell_type": "code",
   "execution_count": null,
   "id": "bd292b3a",
   "metadata": {
    "id": "bd292b3a",
    "outputId": "2a7c11b8-fd41-4658-f92f-f65abd147394",
    "scrolled": true
   },
   "outputs": [
    {
     "data": {
      "text/plain": [
       "57             Brighton Park\n",
       "58             McKinley Park\n",
       "59                Bridgeport\n",
       "60                  New City\n",
       "61               West Elsdon\n",
       "62                 Gage Park\n",
       "63                  Clearing\n",
       "64                 West Lawn\n",
       "65              Chicago Lawn\n",
       "66            West Englewood\n",
       "67                 Englewood\n",
       "68    Greater Grand Crossing\n",
       "69                   Ashburn\n",
       "70            Auburn Gresham\n",
       "71                   Beverly\n",
       "72        Washington Heights\n",
       "73           Mount Greenwood\n",
       "74               Morgan Park\n",
       "75                    O'Hare\n",
       "Name: (Name, Name), dtype: object"
      ]
     },
     "execution_count": 137,
     "metadata": {},
     "output_type": "execute_result"
    }
   ],
   "source": [
    "names[57:76]"
   ]
  },
  {
   "cell_type": "code",
   "execution_count": null,
   "id": "a06ace0a",
   "metadata": {
    "id": "a06ace0a",
    "outputId": "e83fee9b-7644-4d22-b056-b357a8e96943"
   },
   "outputs": [
    {
     "data": {
      "text/plain": [
       "['History',\n",
       " 'Services',\n",
       " 'Education',\n",
       " 'CPS District-Run Schools',\n",
       " 'CPS Charter Schools',\n",
       " 'Catholic schools',\n",
       " 'Library',\n",
       " 'Houses of Worship',\n",
       " 'Transportation',\n",
       " 'Politics',\n",
       " 'Non-Profit Organizations',\n",
       " 'Archer Heights Civic Association',\n",
       " 'Others',\n",
       " 'Local parks',\n",
       " 'Honored residents',\n",
       " 'Events',\n",
       " 'Government',\n",
       " 'Politics',\n",
       " 'Newspapers',\n",
       " 'South Chicago Post',\n",
       " 'Southwest news Herald',\n",
       " 'References',\n",
       " 'External links']"
      ]
     },
     "execution_count": 136,
     "metadata": {},
     "output_type": "execute_result"
    }
   ],
   "source": [
    "\n",
    "sectionsc"
   ]
  },
  {
   "cell_type": "code",
   "execution_count": null,
   "id": "7d59c84f",
   "metadata": {
    "id": "7d59c84f",
    "outputId": "5cfb5ace-2186-4523-d4d1-804c0cf4897d"
   },
   "outputs": [
    {
     "data": {
      "text/plain": [
       "'Chicago Loop'"
      ]
     },
     "execution_count": 129,
     "metadata": {},
     "output_type": "execute_result"
    }
   ],
   "source": [
    "names[31]"
   ]
  },
  {
   "cell_type": "code",
   "execution_count": null,
   "id": "b8ae5b8e",
   "metadata": {
    "id": "b8ae5b8e",
    "outputId": "df2f76d9-f7f8-43db-d201-ae1a38b337e4",
    "scrolled": true
   },
   "outputs": [
    {
     "name": "stdout",
     "output_type": "stream",
     "text": [
      "Edgewater\n"
     ]
    }
   ],
   "source": [
    "for z in names[76:77]:\n",
    "    sectionsc=wp.WikipediaPage(title= str(z)+ \", Chicago\").sections\n",
    "    info=[]\n",
    "    print(z)\n",
    "    if str(z)==\"Chicago Loop\":\n",
    "        for i in sectionsc:\n",
    "            tex=wp.WikipediaPage(title=\"Chicago Loop\").section(str(i))\n",
    "            info.append(tex)\n",
    "\n",
    "        info2=np.array(info).reshape(1,len(info))\n",
    "        sample=pd.DataFrame(info2,columns=sectionsc)\n",
    "        sample.to_json(\"Chicago Loop.json\",orient='records')\n",
    "\n",
    "    elif str(z)==\"Near North Side\":\n",
    "        for i in sectionsc:\n",
    "            tex=wp.WikipediaPage(title=\"Near North Side, Chicago\").section(str(i))\n",
    "            info.append(tex)\n",
    "\n",
    "        sectionsc[4]=\"RiverNorth\"\n",
    "        info2=np.array(info).reshape(1,len(info))\n",
    "        info2\n",
    "        sample=pd.DataFrame(info2,columns=sectionsc)\n",
    "        sample.to_json(\"Near North Side.json\",orient='records')\n",
    "\n",
    "    elif str(z)==\"North Park\":\n",
    "        for i in sectionsc:\n",
    "            tex=wp.WikipediaPage(title=\"North Park, Chicago\").section(str(i))\n",
    "            info.append(tex)\n",
    "\n",
    "        sectionsc[6]=\"Public Elementary\"\n",
    "        sectionsc[7]=\"Publich High School\"\n",
    "        info2=np.array(info).reshape(1,len(info))\n",
    "        info2\n",
    "        sample=pd.DataFrame(info2,columns=sectionsc)\n",
    "        sample.to_json(\"North Park.json\",orient='records')\n",
    "\n",
    "    else:\n",
    "        for i in sectionsc:\n",
    "            tex=wp.WikipediaPage(title=str(z)+', Chicago').section(str(i))\n",
    "            info.append(tex)\n",
    "\n",
    "        info2=np.array(info).reshape(1,len(info))\n",
    "        sample=pd.DataFrame(info2,columns=sectionsc)\n",
    "        sample.to_json(str(z)+'.json',orient='records')\n",
    ""
   ]
  },
  {
   "cell_type": "code",
   "execution_count": null,
   "id": "42c4aee7",
   "metadata": {
    "id": "42c4aee7",
    "outputId": "00db046d-9b4a-4209-94b5-3c622fffea72"
   },
   "outputs": [
    {
     "name": "stdout",
     "output_type": "stream",
     "text": [
      "Edgewater\n"
     ]
    }
   ],
   "source": [
    "sectionsc=wp.WikipediaPage(title=\"Chicago Loop\").sections\n",
    "info=[]\n",
    "for i in sectionsc:\n",
    "    tex=wp.WikipediaPage(title=\"Chicago Loop\").section(str(i))\n",
    "    info.append(tex)\n",
    "\n",
    "info2=np.array(info).reshape(1,len(info))\n",
    "sample=pd.DataFrame(info2,columns=sectionsc)\n",
    "sample.to_json(\"Chicago Loop.json\",orient='records')"
   ]
  },
  {
   "cell_type": "code",
   "execution_count": null,
   "id": "33c0ed4b",
   "metadata": {
    "id": "33c0ed4b"
   },
   "outputs": [],
   "source": [
    "sectionsc=wp.WikipediaPage(title=\"Washington Park (community area), Chicago\").sections\n",
    "info=[]\n",
    "for i in sectionsc:\n",
    "    tex=wp.WikipediaPage(title=\"Washington Park (community area), Chicago\").section(str(i))\n",
    "    info.append(tex)\n",
    "\n",
    "info2=np.array(info).reshape(1,len(info))\n",
    "sample=pd.DataFrame(info2,columns=sectionsc)\n",
    "sample.to_json(\"Washington Park.json\",orient='records')"
   ]
  },
  {
   "cell_type": "code",
   "execution_count": null,
   "id": "bcaf5092",
   "metadata": {
    "id": "bcaf5092"
   },
   "outputs": [],
   "source": [
    "sectionsc=wp.WikipediaPage(title=\"Archer Heights, Chicago\").sections\n",
    "sectionsc[17]=\"politics\"\n",
    "info=[]\n",
    "for i in sectionsc:\n",
    "    tex=wp.WikipediaPage(title=\"Archer Heights, Chicago\").section(str(i))\n",
    "    info.append(tex)\n",
    "\n",
    "info2=np.array(info).reshape(1,len(info))\n",
    "sample=pd.DataFrame(info2,columns=sectionsc)\n",
    "sample.to_json(\"Archer Heights.json\",orient='records')"
   ]
  },
  {
   "cell_type": "code",
   "execution_count": null,
   "id": "976c4069",
   "metadata": {
    "id": "976c4069",
    "outputId": "93771b8a-2e34-4ae1-8519-e7cc67fdf7fb"
   },
   "outputs": [
    {
     "data": {
      "text/plain": [
       "(1, 37)"
      ]
     },
     "execution_count": 45,
     "metadata": {},
     "output_type": "execute_result"
    }
   ],
   "source": [
    "info2=np.array(info).reshape(1,37)\n",
    "np.shape(info2)\n"
   ]
  },
  {
   "cell_type": "code",
   "execution_count": null,
   "id": "e363ff84",
   "metadata": {
    "id": "e363ff84",
    "outputId": "9fcd64a4-17f2-4863-e855-a40283f5eb6d",
    "scrolled": true
   },
   "outputs": [
    {
     "data": {
      "text/html": [
       "<div>\n",
       "<style scoped>\n",
       "    .dataframe tbody tr th:only-of-type {\n",
       "        vertical-align: middle;\n",
       "    }\n",
       "\n",
       "    .dataframe tbody tr th {\n",
       "        vertical-align: top;\n",
       "    }\n",
       "\n",
       "    .dataframe thead th {\n",
       "        text-align: right;\n",
       "    }\n",
       "</style>\n",
       "<table border=\"1\" class=\"dataframe\">\n",
       "  <thead>\n",
       "    <tr style=\"text-align: right;\">\n",
       "      <th></th>\n",
       "      <th>History</th>\n",
       "      <th>Early years</th>\n",
       "      <th>Postwar era</th>\n",
       "      <th>21st century</th>\n",
       "      <th>Historical records</th>\n",
       "      <th>Neighborhoods</th>\n",
       "      <th>Buena Park</th>\n",
       "      <th>Sheridan Park</th>\n",
       "      <th>Argyle Street</th>\n",
       "      <th>Margate Park</th>\n",
       "      <th>...</th>\n",
       "      <th>Cultural</th>\n",
       "      <th>Politics and government</th>\n",
       "      <th>United States Congress</th>\n",
       "      <th>Politics</th>\n",
       "      <th>Chicago City Council</th>\n",
       "      <th>Transportation</th>\n",
       "      <th>Notable people</th>\n",
       "      <th>Notes</th>\n",
       "      <th>References</th>\n",
       "      <th>External links</th>\n",
       "    </tr>\n",
       "  </thead>\n",
       "  <tbody>\n",
       "    <tr>\n",
       "      <th>0</th>\n",
       "      <td></td>\n",
       "      <td>The historical, cultural, and commercial cente...</td>\n",
       "      <td>By the 1950s, the middle class was leaving Upt...</td>\n",
       "      <td>Most recently, since 2000, gentrification has ...</td>\n",
       "      <td>Historical images of Uptown can be found in Ex...</td>\n",
       "      <td></td>\n",
       "      <td>Buena Park is a neighborhood bounded by Montro...</td>\n",
       "      <td>Sheridan Park is a neighborhood roughly bounde...</td>\n",
       "      <td>More recently known as \"Asia on Argyle,\" but a...</td>\n",
       "      <td>Margate Park is situated in the extreme northe...</td>\n",
       "      <td>...</td>\n",
       "      <td>The Haitian American Museum of Chicago\\nThe Am...</td>\n",
       "      <td></td>\n",
       "      <td>Most of Uptown is located in Illinois's 9th co...</td>\n",
       "      <td>Uptown has supported the Democratic Party in t...</td>\n",
       "      <td>Uptown is divided into multiple wards, which a...</td>\n",
       "      <td>Uptown is served by the Argyle station, Lawren...</td>\n",
       "      <td>Eric Gunnar Gibson (1919–1944), soldier in the...</td>\n",
       "      <td></td>\n",
       "      <td>Balaban, David (2006). The Chicago Movie Palac...</td>\n",
       "      <td>Official City of Chicago Uptown Community Map\\...</td>\n",
       "    </tr>\n",
       "  </tbody>\n",
       "</table>\n",
       "<p>1 rows × 37 columns</p>\n",
       "</div>"
      ],
      "text/plain": [
       "  History                                        Early years  \\\n",
       "0          The historical, cultural, and commercial cente...   \n",
       "\n",
       "                                         Postwar era  \\\n",
       "0  By the 1950s, the middle class was leaving Upt...   \n",
       "\n",
       "                                        21st century  \\\n",
       "0  Most recently, since 2000, gentrification has ...   \n",
       "\n",
       "                                  Historical records Neighborhoods  \\\n",
       "0  Historical images of Uptown can be found in Ex...                 \n",
       "\n",
       "                                          Buena Park  \\\n",
       "0  Buena Park is a neighborhood bounded by Montro...   \n",
       "\n",
       "                                       Sheridan Park  \\\n",
       "0  Sheridan Park is a neighborhood roughly bounde...   \n",
       "\n",
       "                                       Argyle Street  \\\n",
       "0  More recently known as \"Asia on Argyle,\" but a...   \n",
       "\n",
       "                                        Margate Park  ...  \\\n",
       "0  Margate Park is situated in the extreme northe...  ...   \n",
       "\n",
       "                                            Cultural Politics and government  \\\n",
       "0  The Haitian American Museum of Chicago\\nThe Am...                           \n",
       "\n",
       "                              United States Congress  \\\n",
       "0  Most of Uptown is located in Illinois's 9th co...   \n",
       "\n",
       "                                            Politics  \\\n",
       "0  Uptown has supported the Democratic Party in t...   \n",
       "\n",
       "                                Chicago City Council  \\\n",
       "0  Uptown is divided into multiple wards, which a...   \n",
       "\n",
       "                                      Transportation  \\\n",
       "0  Uptown is served by the Argyle station, Lawren...   \n",
       "\n",
       "                                      Notable people Notes  \\\n",
       "0  Eric Gunnar Gibson (1919–1944), soldier in the...         \n",
       "\n",
       "                                          References  \\\n",
       "0  Balaban, David (2006). The Chicago Movie Palac...   \n",
       "\n",
       "                                      External links  \n",
       "0  Official City of Chicago Uptown Community Map\\...  \n",
       "\n",
       "[1 rows x 37 columns]"
      ]
     },
     "execution_count": 47,
     "metadata": {},
     "output_type": "execute_result"
    }
   ],
   "source": [
    "sample=pd.DataFrame(info2,columns=sectionsw)\n",
    "sample"
   ]
  },
  {
   "cell_type": "code",
   "execution_count": null,
   "id": "a1a3d808",
   "metadata": {
    "id": "a1a3d808"
   },
   "outputs": [],
   "source": [
    "sample.to_json('uptown.json',orient='records')"
   ]
  }
 ],
 "metadata": {
  "colab": {
   "provenance": []
  },
  "kernelspec": {
   "display_name": "Python 3 (ipykernel)",
   "language": "python",
   "name": "python3"
  },
  "language_info": {
   "codemirror_mode": {
    "name": "ipython",
    "version": 3
   },
   "file_extension": ".py",
   "mimetype": "text/x-python",
   "name": "python",
   "nbconvert_exporter": "python",
   "pygments_lexer": "ipython3",
   "version": "3.9.7"
  }
 },
 "nbformat": 4,
 "nbformat_minor": 5
}
