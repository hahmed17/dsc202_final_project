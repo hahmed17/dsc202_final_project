{
 "cells": [
  {
   "cell_type": "code",
   "execution_count": 1,
   "id": "90f19f2c",
   "metadata": {},
   "outputs": [],
   "source": [
    "import pymongo\n",
    "from pymongo import MongoClient\n",
    "from pymongo.errors import BulkWriteError\n",
    "client = MongoClient()\n",
    "\n",
    "import json\n",
    "import dateutil\n",
    "from dateutil import parser\n",
    "import glob\n",
    "import os\n",
    "from os.path import isfile, join\n",
    "path = os.getcwd()"
   ]
  },
  {
   "cell_type": "markdown",
   "id": "91945d02",
   "metadata": {},
   "source": [
    "# Load JSON data into MongoDB"
   ]
  },
  {
   "cell_type": "code",
   "execution_count": 2,
   "id": "1059a5b7",
   "metadata": {},
   "outputs": [],
   "source": [
    "json_files = []  # store json file names in list\n",
    "\n",
    "# function to load json files\n",
    "def load_json(filepath):\n",
    "    with open(filepath) as f:\n",
    "        result = json.load(f)\n",
    "    return result[0]\n",
    "\n",
    "\n",
    "json_filepath = path = r'../data/jsons/*.json'\n",
    "json_filepaths_list = glob.glob(json_filepath)\n",
    "neigborhood_jsons = []\n",
    "\n",
    "for f in json_filepaths_list:\n",
    "    neigborhood_jsons.append(load_json(f))  # load each json file"
   ]
  },
  {
   "cell_type": "code",
   "execution_count": 3,
   "id": "e514a095",
   "metadata": {},
   "outputs": [
    {
     "data": {
      "text/plain": [
       "InsertManyResult([ObjectId('65766f1846cd3fbbda24a433'), ObjectId('65766f1846cd3fbbda24a434'), ObjectId('65766f1846cd3fbbda24a435'), ObjectId('65766f1846cd3fbbda24a436'), ObjectId('65766f1846cd3fbbda24a437'), ObjectId('65766f1846cd3fbbda24a438'), ObjectId('65766f1846cd3fbbda24a439'), ObjectId('65766f1846cd3fbbda24a43a'), ObjectId('65766f1846cd3fbbda24a43b'), ObjectId('65766f1846cd3fbbda24a43c'), ObjectId('65766f1846cd3fbbda24a43d'), ObjectId('65766f1846cd3fbbda24a43e'), ObjectId('65766f1846cd3fbbda24a43f'), ObjectId('65766f1846cd3fbbda24a440'), ObjectId('65766f1846cd3fbbda24a441'), ObjectId('65766f1846cd3fbbda24a442'), ObjectId('65766f1846cd3fbbda24a443'), ObjectId('65766f1846cd3fbbda24a444'), ObjectId('65766f1846cd3fbbda24a445'), ObjectId('65766f1846cd3fbbda24a446'), ObjectId('65766f1846cd3fbbda24a447'), ObjectId('65766f1846cd3fbbda24a448'), ObjectId('65766f1846cd3fbbda24a449'), ObjectId('65766f1846cd3fbbda24a44a'), ObjectId('65766f1846cd3fbbda24a44b'), ObjectId('65766f1846cd3fbbda24a44c'), ObjectId('65766f1846cd3fbbda24a44d'), ObjectId('65766f1846cd3fbbda24a44e'), ObjectId('65766f1846cd3fbbda24a44f'), ObjectId('65766f1846cd3fbbda24a450'), ObjectId('65766f1846cd3fbbda24a451'), ObjectId('65766f1846cd3fbbda24a452'), ObjectId('65766f1846cd3fbbda24a453'), ObjectId('65766f1846cd3fbbda24a454'), ObjectId('65766f1846cd3fbbda24a455'), ObjectId('65766f1846cd3fbbda24a456'), ObjectId('65766f1846cd3fbbda24a457'), ObjectId('65766f1846cd3fbbda24a458'), ObjectId('65766f1846cd3fbbda24a459'), ObjectId('65766f1846cd3fbbda24a45a'), ObjectId('65766f1846cd3fbbda24a45b'), ObjectId('65766f1846cd3fbbda24a45c'), ObjectId('65766f1846cd3fbbda24a45d'), ObjectId('65766f1846cd3fbbda24a45e'), ObjectId('65766f1846cd3fbbda24a45f'), ObjectId('65766f1846cd3fbbda24a460'), ObjectId('65766f1846cd3fbbda24a461'), ObjectId('65766f1846cd3fbbda24a462'), ObjectId('65766f1846cd3fbbda24a463'), ObjectId('65766f1846cd3fbbda24a464'), ObjectId('65766f1846cd3fbbda24a465'), ObjectId('65766f1846cd3fbbda24a466'), ObjectId('65766f1846cd3fbbda24a467'), ObjectId('65766f1846cd3fbbda24a468'), ObjectId('65766f1846cd3fbbda24a469'), ObjectId('65766f1846cd3fbbda24a46a'), ObjectId('65766f1846cd3fbbda24a46b'), ObjectId('65766f1846cd3fbbda24a46c'), ObjectId('65766f1846cd3fbbda24a46d'), ObjectId('65766f1846cd3fbbda24a46e'), ObjectId('65766f1846cd3fbbda24a46f'), ObjectId('65766f1846cd3fbbda24a470'), ObjectId('65766f1846cd3fbbda24a471'), ObjectId('65766f1846cd3fbbda24a472'), ObjectId('65766f1846cd3fbbda24a473'), ObjectId('65766f1846cd3fbbda24a474'), ObjectId('65766f1846cd3fbbda24a475'), ObjectId('65766f1846cd3fbbda24a476'), ObjectId('65766f1846cd3fbbda24a477'), ObjectId('65766f1846cd3fbbda24a478'), ObjectId('65766f1846cd3fbbda24a479'), ObjectId('65766f1846cd3fbbda24a47a'), ObjectId('65766f1846cd3fbbda24a47b'), ObjectId('65766f1846cd3fbbda24a47c'), ObjectId('65766f1846cd3fbbda24a47d'), ObjectId('65766f1846cd3fbbda24a47e'), ObjectId('65766f1846cd3fbbda24a47f')], acknowledged=True)"
      ]
     },
     "execution_count": 3,
     "metadata": {},
     "output_type": "execute_result"
    }
   ],
   "source": [
    "client = MongoClient('localhost', 27017)  # start connection to mongodb server\n",
    "\n",
    "db = client[\"chicago-neighborhoods-database\"]  # create a database\n",
    "neighborhoods = db[\"neighborhoods-collection\"]  # create a collection in the database\n",
    "\n",
    "db.neighborhoods.insert_many(neigborhood_jsons)  # bulk write all json files to collection"
   ]
  },
  {
   "cell_type": "markdown",
   "id": "fd4e5cf0",
   "metadata": {},
   "source": [
    "# Queries"
   ]
  },
  {
   "cell_type": "code",
   "execution_count": 4,
   "id": "ad22aaa3",
   "metadata": {},
   "outputs": [
    {
     "ename": "SyntaxError",
     "evalue": "invalid syntax (620764845.py, line 13)",
     "output_type": "error",
     "traceback": [
      "\u001b[0;36m  Cell \u001b[0;32mIn[4], line 13\u001b[0;36m\u001b[0m\n\u001b[0;31m    db.neighborhoods.\u001b[0m\n\u001b[0m                     ^\u001b[0m\n\u001b[0;31mSyntaxError\u001b[0m\u001b[0;31m:\u001b[0m invalid syntax\n"
     ]
    }
   ],
   "source": [
    "# query for keywords that indicate value to real estate developers (e.g., safe, family, popular, trendy, wealth, Democrat)\n",
    "# filter for keywords such as \"crime\", \"turmoil\", swamp, immigrant(???), gang\n",
    "# look for a \"Transportation\" category?\n",
    "# query from \"Culture\" section and gang history\n",
    "\n",
    "\n",
    "# if file has a \"culture\" tag\n",
    "# if file has a \"transportation tag\"\n",
    "# if crime AND gang appear in the same article\n",
    "# if \"Education\" tag and \"Chicago Public Schools\" OR \"CPS\"\n",
    "# finally, look for overlaps\n",
    "\n",
    "cursor = db.neighborhoods.find({})\n",
    "db.neighborhoods.aggregate ([\n",
    "    {\n",
    "         $match: \n",
    "        \n",
    "        \n",
    "    } \n",
    "]\n",
    ")\n"
   ]
  }
 ],
 "metadata": {
  "kernelspec": {
   "display_name": "Python 3 (ipykernel)",
   "language": "python",
   "name": "python3"
  },
  "language_info": {
   "codemirror_mode": {
    "name": "ipython",
    "version": 3
   },
   "file_extension": ".py",
   "mimetype": "text/x-python",
   "name": "python",
   "nbconvert_exporter": "python",
   "pygments_lexer": "ipython3",
   "version": "3.8.9"
  }
 },
 "nbformat": 4,
 "nbformat_minor": 5
}
