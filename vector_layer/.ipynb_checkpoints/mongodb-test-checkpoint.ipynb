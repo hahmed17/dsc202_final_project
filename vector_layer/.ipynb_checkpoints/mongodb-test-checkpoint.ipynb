{
 "cells": [
  {
   "cell_type": "code",
   "execution_count": 4,
   "id": "90f19f2c",
   "metadata": {},
   "outputs": [],
   "source": [
    "import pymongo\n",
    "from pymongo import MongoClient\n",
    "client = MongoClient()\n",
    "\n",
    "import json\n",
    "import dateutil\n",
    "from dateutil import parser"
   ]
  },
  {
   "cell_type": "code",
   "execution_count": 5,
   "id": "21a1f14a",
   "metadata": {},
   "outputs": [],
   "source": [
    "# import json files\n",
    "with open(\"../data/jsons/Archer Heights.json\") as f:\n",
    "    archer_heights = json.load(f)\n",
    "    \n",
    "with open(\"../data/jsons/Washington Park.json\") as f:\n",
    "    wash_park = json.load(f)"
   ]
  },
  {
   "cell_type": "code",
   "execution_count": null,
   "id": "e514a095",
   "metadata": {},
   "outputs": [],
   "source": [
    "client = MongoClient('localhost', 27017)\n",
    "\n",
    "db = client[\"test-database\"]\n",
    "collection = db[\"test-collection\"]\n",
    "\n",
    "db.insert_one(archer_heights[0])"
   ]
  },
  {
   "cell_type": "code",
   "execution_count": null,
   "id": "625a1126",
   "metadata": {},
   "outputs": [],
   "source": [
    "results = collection.insert_many([archer_heights[0], wash_park[0]])\n",
    "client.close()"
   ]
  }
 ],
 "metadata": {
  "kernelspec": {
   "display_name": "Python 3 (ipykernel)",
   "language": "python",
   "name": "python3"
  },
  "language_info": {
   "codemirror_mode": {
    "name": "ipython",
    "version": 3
   },
   "file_extension": ".py",
   "mimetype": "text/x-python",
   "name": "python",
   "nbconvert_exporter": "python",
   "pygments_lexer": "ipython3",
   "version": "3.8.9"
  }
 },
 "nbformat": 4,
 "nbformat_minor": 5
}
