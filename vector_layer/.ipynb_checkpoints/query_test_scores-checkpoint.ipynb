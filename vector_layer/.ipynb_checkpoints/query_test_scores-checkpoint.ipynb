{
 "cells": [
  {
   "cell_type": "code",
   "execution_count": 1,
   "id": "ec27c512",
   "metadata": {},
   "outputs": [],
   "source": [
    "import geopandas as gpd\n",
    "import geodatasets\n",
    "import pandas as pd\n",
    "import matplotlib.pyplot as plt\n",
    "from matplotlib.pyplot import figure\n",
    "from shapely.geometry import Polygon, LineString, MultiPoint, Point\n",
    "import psycopg2\n",
    "import csv\n",
    "import pandas as pd\n",
    "# import pymongo\n",
    "from pymongo import MongoClient\n",
    "from pymongo.errors import BulkWriteError\n",
    "client = MongoClient()\n",
    "\n",
    "import json\n",
    "import dateutil\n",
    "from dateutil import parser\n",
    "import glob\n",
    "import os\n",
    "from os.path import isfile, join\n",
    "path = os.getcwd() \n",
    "data_path = path"
   ]
  },
  {
   "cell_type": "code",
   "execution_count": 2,
   "id": "5014c269",
   "metadata": {},
   "outputs": [],
   "source": [
    "def copy_to_postgres(filename, pg_cursor, table_name):\n",
    "    with open(filename, 'r', encoding='utf-8-sig') as file:\n",
    "        next(file)\n",
    "        pg_cursor.copy_from(file, table_name, sep=',') \n",
    "        \n",
    "def copy_expert_to_postgres(filename, pg_cursor, table_name):\n",
    "    with open(filename, 'r', encoding='utf-8-sig') as file:\n",
    "        next(file)\n",
    "        pg_cursor.copy_expert('''COPY {table_name} FROM STDIN WITH CSV HEADER''', file)"
   ]
  },
  {
   "cell_type": "code",
   "execution_count": 3,
   "id": "e015066a",
   "metadata": {},
   "outputs": [
    {
     "ename": "FileNotFoundError",
     "evalue": "[Errno 2] No such file or directory: '../data/chicago_testscores_2019.csv'",
     "output_type": "error",
     "traceback": [
      "\u001b[0;31m---------------------------------------------------------------------------\u001b[0m",
      "\u001b[0;31mFileNotFoundError\u001b[0m                         Traceback (most recent call last)",
      "Cell \u001b[0;32mIn[3], line 44\u001b[0m\n\u001b[1;32m     27\u001b[0m pg_cursor\u001b[38;5;241m.\u001b[39mexecute(create_testscores_table)\n\u001b[1;32m     30\u001b[0m \u001b[38;5;66;03m# create redlined schools table\u001b[39;00m\n\u001b[1;32m     31\u001b[0m \u001b[38;5;66;03m# create_schooldistrict_table = '''\u001b[39;00m\n\u001b[1;32m     32\u001b[0m \u001b[38;5;66;03m#     CREATE TABLE schoolsdata (\u001b[39;00m\n\u001b[0;32m   (...)\u001b[0m\n\u001b[1;32m     42\u001b[0m \n\u001b[1;32m     43\u001b[0m \u001b[38;5;66;03m# import csv data to tables\u001b[39;00m\n\u001b[0;32m---> 44\u001b[0m \u001b[38;5;28;01mwith\u001b[39;00m \u001b[38;5;28;43mopen\u001b[39;49m\u001b[43m(\u001b[49m\u001b[38;5;124;43m'\u001b[39;49m\u001b[38;5;124;43m../data/chicago_testscores_2019.csv\u001b[39;49m\u001b[38;5;124;43m'\u001b[39;49m\u001b[43m,\u001b[49m\u001b[43m \u001b[49m\u001b[38;5;124;43m'\u001b[39;49m\u001b[38;5;124;43mr\u001b[39;49m\u001b[38;5;124;43m'\u001b[39;49m\u001b[43m,\u001b[49m\u001b[43m \u001b[49m\u001b[43mencoding\u001b[49m\u001b[38;5;241;43m=\u001b[39;49m\u001b[38;5;124;43m'\u001b[39;49m\u001b[38;5;124;43mutf-8-sig\u001b[39;49m\u001b[38;5;124;43m'\u001b[39;49m\u001b[43m)\u001b[49m \u001b[38;5;28;01mas\u001b[39;00m file:\n\u001b[1;32m     45\u001b[0m         \u001b[38;5;28mnext\u001b[39m(file)\n\u001b[1;32m     46\u001b[0m         pg_cursor\u001b[38;5;241m.\u001b[39mcopy_expert(\u001b[38;5;124m'''\u001b[39m\u001b[38;5;124mCOPY ritscores FROM STDIN WITH CSV HEADER\u001b[39m\u001b[38;5;124m'''\u001b[39m, file)\n",
      "File \u001b[0;32m~/Library/Python/3.8/lib/python/site-packages/IPython/core/interactiveshell.py:284\u001b[0m, in \u001b[0;36m_modified_open\u001b[0;34m(file, *args, **kwargs)\u001b[0m\n\u001b[1;32m    277\u001b[0m \u001b[38;5;28;01mif\u001b[39;00m file \u001b[38;5;129;01min\u001b[39;00m {\u001b[38;5;241m0\u001b[39m, \u001b[38;5;241m1\u001b[39m, \u001b[38;5;241m2\u001b[39m}:\n\u001b[1;32m    278\u001b[0m     \u001b[38;5;28;01mraise\u001b[39;00m \u001b[38;5;167;01mValueError\u001b[39;00m(\n\u001b[1;32m    279\u001b[0m         \u001b[38;5;124mf\u001b[39m\u001b[38;5;124m\"\u001b[39m\u001b[38;5;124mIPython won\u001b[39m\u001b[38;5;124m'\u001b[39m\u001b[38;5;124mt let you open fd=\u001b[39m\u001b[38;5;132;01m{\u001b[39;00mfile\u001b[38;5;132;01m}\u001b[39;00m\u001b[38;5;124m by default \u001b[39m\u001b[38;5;124m\"\u001b[39m\n\u001b[1;32m    280\u001b[0m         \u001b[38;5;124m\"\u001b[39m\u001b[38;5;124mas it is likely to crash IPython. If you know what you are doing, \u001b[39m\u001b[38;5;124m\"\u001b[39m\n\u001b[1;32m    281\u001b[0m         \u001b[38;5;124m\"\u001b[39m\u001b[38;5;124myou can use builtins\u001b[39m\u001b[38;5;124m'\u001b[39m\u001b[38;5;124m open.\u001b[39m\u001b[38;5;124m\"\u001b[39m\n\u001b[1;32m    282\u001b[0m     )\n\u001b[0;32m--> 284\u001b[0m \u001b[38;5;28;01mreturn\u001b[39;00m \u001b[43mio_open\u001b[49m\u001b[43m(\u001b[49m\u001b[43mfile\u001b[49m\u001b[43m,\u001b[49m\u001b[43m \u001b[49m\u001b[38;5;241;43m*\u001b[39;49m\u001b[43margs\u001b[49m\u001b[43m,\u001b[49m\u001b[43m \u001b[49m\u001b[38;5;241;43m*\u001b[39;49m\u001b[38;5;241;43m*\u001b[39;49m\u001b[43mkwargs\u001b[49m\u001b[43m)\u001b[49m\n",
      "\u001b[0;31mFileNotFoundError\u001b[0m: [Errno 2] No such file or directory: '../data/chicago_testscores_2019.csv'"
     ]
    }
   ],
   "source": [
    "########################### MUST CREATE CONNECTION to Postgres before any calls are made\n",
    "pg_conn = psycopg2.connect(\n",
    "        dbname=\"postgres\",\n",
    "        user=\"postgres\",\n",
    "        password=\"darkdreamer17?\",  # change this to your own password\n",
    "        host=\"localhost\",\n",
    "        port=\"5432\"\n",
    "    )\n",
    "pg_conn.autocommit = True\n",
    "pg_cursor = pg_conn.cursor()\n",
    "\n",
    "\n",
    "# create test scores table\n",
    "create_testscores_table = '''\n",
    "    CREATE TABLE IF NOT EXISTS ritscores (\n",
    "    SchoolID INT,\n",
    "    SchoolName VARCHAR(255),\n",
    "    Network VARCHAR(255),\n",
    "    Subject VARCHAR(255),\n",
    "    Grade VARCHAR(50),\n",
    "    NumStudents INT,\n",
    "    AvgRITscore NUMERIC(5, 1),\n",
    "    AtOrAboveNationalAvg NUMERIC(4, 1),\n",
    "    NationalAttainmentPercentile INT\n",
    "    );\n",
    "    '''\n",
    "pg_cursor.execute(create_testscores_table)\n",
    "\n",
    "\n",
    "# create redlined schools table\n",
    "# create_schooldistrict_table = '''\n",
    "#     CREATE TABLE schoolsdata (\n",
    "#     School_ID INT PRIMARY KEY,\n",
    "#     Short_Name VARCHAR(255),\n",
    "#     holc_id VARCHAR(5),\n",
    "#     holc_grade VARCHAR(1),\n",
    "#     Grade_Cat VARCHAR(2)\n",
    "#     );\n",
    "#     '''\n",
    "# pg_cursor.execute(create_schooldistrict_table)\n",
    "\n",
    "\n",
    "# import csv data to tables\n",
    "with open('chicago_testscores_2019.csv', 'r', encoding='utf-8-sig') as file:\n",
    "        next(file)\n",
    "        pg_cursor.copy_expert('''COPY ritscores FROM STDIN WITH CSV HEADER''', file)\n",
    "# copy_to_postgres('../data/Schools.csv', pg_cursor, 'schoolsdata')\n",
    "\n",
    "\n",
    "####################### Querying #######################\n",
    "# first, select: school short name, \n",
    "\n",
    "\n",
    "####################### Close the PostgreSQL cursor and connection - MUST BE RUN AFTER ANY CALLS TO POSTGRES\n",
    "if pg_cursor is not None:\n",
    "    pg_cursor.close()\n",
    "if pg_conn is not None:\n",
    "    pg_conn.close()"
   ]
  },
  {
   "cell_type": "code",
   "execution_count": null,
   "id": "f158a5ec",
   "metadata": {},
   "outputs": [],
   "source": [
    "# use geopandas to map school locations onto modern neighborhoods\n",
    "# import Schools.csv as geopandas dataframe"
   ]
  }
 ],
 "metadata": {
  "kernelspec": {
   "display_name": "Python 3 (ipykernel)",
   "language": "python",
   "name": "python3"
  },
  "language_info": {
   "codemirror_mode": {
    "name": "ipython",
    "version": 3
   },
   "file_extension": ".py",
   "mimetype": "text/x-python",
   "name": "python",
   "nbconvert_exporter": "python",
   "pygments_lexer": "ipython3",
   "version": "3.8.9"
  }
 },
 "nbformat": 4,
 "nbformat_minor": 5
}
