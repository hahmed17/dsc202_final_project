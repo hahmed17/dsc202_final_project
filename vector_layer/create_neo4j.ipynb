{
 "cells": [
  {
   "cell_type": "code",
   "execution_count": 51,
   "metadata": {},
   "outputs": [],
   "source": [
    "from neo4j import GraphDatabase\n",
    "import shutil\n",
    "import os\n",
    "\n",
    "# create session\n",
    "uri = \"bolt://localhost:7687\"\n",
    "driver = GraphDatabase.driver(uri, auth=(\"neo4j\", \"root1234\"))\n",
    "session =  driver.session()\n"
   ]
  },
  {
   "cell_type": "code",
   "execution_count": 52,
   "metadata": {},
   "outputs": [],
   "source": [
    "\n",
    "# get the import directory\n",
    "def get_import_dir(session):\n",
    "    settings = session.run('SHOW SETTINGS')\n",
    "    for r in settings:\n",
    "        if r['name'] == 'server.directories.import':\n",
    "            import_dir = r['value']\n",
    "            break\n",
    "    return import_dir"
   ]
  },
  {
   "cell_type": "code",
   "execution_count": 53,
   "metadata": {},
   "outputs": [],
   "source": [
    "import_dir = get_import_dir(session)\n",
    "# copy all CSVs from data dir to import_dir\n",
    "data_dir = \"../data/processed/\"\n",
    "for file in os.listdir(data_dir):\n",
    "    src_path = os.path.join(data_dir, file)\n",
    "    shutil.copy(src_path, import_dir)"
   ]
  },
  {
   "cell_type": "code",
   "execution_count": 57,
   "metadata": {},
   "outputs": [
    {
     "data": {
      "text/plain": [
       "<neo4j._sync.work.result.Result at 0x12cc001f2b0>"
      ]
     },
     "execution_count": 57,
     "metadata": {},
     "output_type": "execute_result"
    }
   ],
   "source": [
    "# import the data into a neo4j database\n",
    "\n",
    "add_metra_stations = \"\"\"\n",
    "LOAD CSV WITH HEADERS FROM 'file:///MetraStations.csv' AS row\n",
    "WITH row.station AS station, toFloat(row.x) AS long, toFloat(row.y) AS lat\n",
    "MERGE (p:MetraStation{name: station, long: long, lat:lat});\n",
    "\"\"\"\n",
    "\n",
    "add_metra_routes = \"\"\"\n",
    "// Import routes and create relationships\n",
    "LOAD CSV WITH HEADERS FROM 'file:///MetraRoutes.csv' AS row\n",
    "MATCH (src:MetraStation {name: row.src_station}), (dest:MetraStation {name: row.dest_stations})\n",
    "MERGE (src)-[:CONNECTS_TO]->(dest);\n",
    "\"\"\"\n",
    "\n",
    "add_train_stations = \"\"\"\n",
    "LOAD CSV WITH HEADERS FROM 'file:///TrainStations.csv' AS row\n",
    "WITH row.station AS station, toFloat(row.x) AS long, toFloat(row.y) AS lat\n",
    "MERGE (p:TrainStation{name: station, long: long, lat:lat});\n",
    "\"\"\"\n",
    "\n",
    "add_train_routes = \"\"\"\n",
    "// Import routes and create relationships\n",
    "LOAD CSV WITH HEADERS FROM 'file:///TrainRoutes.csv' AS row\n",
    "MATCH (src:TrainStation {name: row.src_station}), (dest:TrainStation {name: row.dest_stations})\n",
    "MERGE (src)-[:CONNECTS_TO]->(dest);\n",
    "\"\"\"\n",
    "\n",
    "\n",
    "session.run(add_metra_stations)\n",
    "session.run(add_metra_routes)\n",
    "session.run(add_train_stations)\n",
    "session.run(add_train_routes)\n"
   ]
  },
  {
   "cell_type": "code",
   "execution_count": null,
   "metadata": {},
   "outputs": [],
   "source": []
  }
 ],
 "metadata": {
  "kernelspec": {
   "display_name": "base",
   "language": "python",
   "name": "python3"
  },
  "language_info": {
   "codemirror_mode": {
    "name": "ipython",
    "version": 3
   },
   "file_extension": ".py",
   "mimetype": "text/x-python",
   "name": "python",
   "nbconvert_exporter": "python",
   "pygments_lexer": "ipython3",
   "version": "3.9.13"
  }
 },
 "nbformat": 4,
 "nbformat_minor": 2
}
